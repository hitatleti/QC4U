{
 "cells": [
  {
   "cell_type": "markdown",
   "metadata": {},
   "source": [
    "# 第1回・量子コンピュータを触る"
   ]
  },
  {
   "cell_type": "markdown",
   "metadata": {},
   "source": [
    "#### 1. QISKITのインストール"
   ]
  },
  {
   "cell_type": "code",
   "execution_count": 1,
   "metadata": {},
   "outputs": [
    {
     "name": "stdout",
     "output_type": "stream",
     "text": [
      "Requirement already satisfied: qiskit in c:\\users\\hisan\\anaconda3\\lib\\site-packages (0.39.0)\n",
      "Requirement already satisfied: qiskit-ibmq-provider==0.19.2 in c:\\users\\hisan\\anaconda3\\lib\\site-packages (from qiskit) (0.19.2)\n",
      "Requirement already satisfied: qiskit-aer==0.11.0 in c:\\users\\hisan\\anaconda3\\lib\\site-packages (from qiskit) (0.11.0)\n",
      "Requirement already satisfied: qiskit-terra==0.22.0 in c:\\users\\hisan\\anaconda3\\lib\\site-packages (from qiskit) (0.22.0)\n",
      "Requirement already satisfied: numpy>=1.16.3 in c:\\users\\hisan\\anaconda3\\lib\\site-packages (from qiskit-aer==0.11.0->qiskit) (1.21.5)\n",
      "Requirement already satisfied: scipy>=1.0 in c:\\users\\hisan\\anaconda3\\lib\\site-packages (from qiskit-aer==0.11.0->qiskit) (1.7.3)\n",
      "Requirement already satisfied: websocket-client>=1.0.1 in c:\\users\\hisan\\anaconda3\\lib\\site-packages (from qiskit-ibmq-provider==0.19.2->qiskit) (1.4.1)\n",
      "Requirement already satisfied: requests-ntlm>=1.1.0 in c:\\users\\hisan\\anaconda3\\lib\\site-packages (from qiskit-ibmq-provider==0.19.2->qiskit) (1.1.0)\n",
      "Requirement already satisfied: requests>=2.19 in c:\\users\\hisan\\anaconda3\\lib\\site-packages (from qiskit-ibmq-provider==0.19.2->qiskit) (2.27.1)\n",
      "Requirement already satisfied: python-dateutil>=2.8.0 in c:\\users\\hisan\\anaconda3\\lib\\site-packages (from qiskit-ibmq-provider==0.19.2->qiskit) (2.8.2)\n",
      "Requirement already satisfied: websockets>=10.0 in c:\\users\\hisan\\anaconda3\\lib\\site-packages (from qiskit-ibmq-provider==0.19.2->qiskit) (10.3)\n",
      "Requirement already satisfied: urllib3>=1.21.1 in c:\\users\\hisan\\anaconda3\\lib\\site-packages (from qiskit-ibmq-provider==0.19.2->qiskit) (1.26.9)\n",
      "Requirement already satisfied: retworkx>=0.11.0 in c:\\users\\hisan\\anaconda3\\lib\\site-packages (from qiskit-terra==0.22.0->qiskit) (0.12.0)\n",
      "Requirement already satisfied: sympy>=1.3 in c:\\users\\hisan\\anaconda3\\lib\\site-packages (from qiskit-terra==0.22.0->qiskit) (1.10.1)\n",
      "Requirement already satisfied: psutil>=5 in c:\\users\\hisan\\anaconda3\\lib\\site-packages (from qiskit-terra==0.22.0->qiskit) (5.8.0)\n",
      "Requirement already satisfied: stevedore>=3.0.0 in c:\\users\\hisan\\anaconda3\\lib\\site-packages (from qiskit-terra==0.22.0->qiskit) (4.0.1)\n",
      "Requirement already satisfied: ply>=3.10 in c:\\users\\hisan\\anaconda3\\lib\\site-packages (from qiskit-terra==0.22.0->qiskit) (3.11)\n",
      "Requirement already satisfied: dill>=0.3 in c:\\users\\hisan\\anaconda3\\lib\\site-packages (from qiskit-terra==0.22.0->qiskit) (0.3.5.1)\n",
      "Requirement already satisfied: tweedledum<2.0,>=1.1 in c:\\users\\hisan\\anaconda3\\lib\\site-packages (from qiskit-terra==0.22.0->qiskit) (1.1.1)\n",
      "Requirement already satisfied: six>=1.5 in c:\\users\\hisan\\anaconda3\\lib\\site-packages (from python-dateutil>=2.8.0->qiskit-ibmq-provider==0.19.2->qiskit) (1.16.0)\n",
      "Requirement already satisfied: charset-normalizer~=2.0.0 in c:\\users\\hisan\\anaconda3\\lib\\site-packages (from requests>=2.19->qiskit-ibmq-provider==0.19.2->qiskit) (2.0.4)\n",
      "Requirement already satisfied: idna<4,>=2.5 in c:\\users\\hisan\\anaconda3\\lib\\site-packages (from requests>=2.19->qiskit-ibmq-provider==0.19.2->qiskit) (3.3)\n",
      "Requirement already satisfied: certifi>=2017.4.17 in c:\\users\\hisan\\anaconda3\\lib\\site-packages (from requests>=2.19->qiskit-ibmq-provider==0.19.2->qiskit) (2021.10.8)\n",
      "Requirement already satisfied: ntlm-auth>=1.0.2 in c:\\users\\hisan\\anaconda3\\lib\\site-packages (from requests-ntlm>=1.1.0->qiskit-ibmq-provider==0.19.2->qiskit) (1.5.0)\n",
      "Requirement already satisfied: cryptography>=1.3 in c:\\users\\hisan\\anaconda3\\lib\\site-packages (from requests-ntlm>=1.1.0->qiskit-ibmq-provider==0.19.2->qiskit) (3.4.8)\n",
      "Requirement already satisfied: cffi>=1.12 in c:\\users\\hisan\\anaconda3\\lib\\site-packages (from cryptography>=1.3->requests-ntlm>=1.1.0->qiskit-ibmq-provider==0.19.2->qiskit) (1.15.0)\n",
      "Requirement already satisfied: pycparser in c:\\users\\hisan\\anaconda3\\lib\\site-packages (from cffi>=1.12->cryptography>=1.3->requests-ntlm>=1.1.0->qiskit-ibmq-provider==0.19.2->qiskit) (2.21)\n",
      "Requirement already satisfied: rustworkx==0.12.0 in c:\\users\\hisan\\anaconda3\\lib\\site-packages (from retworkx>=0.11.0->qiskit-terra==0.22.0->qiskit) (0.12.0)\n",
      "Requirement already satisfied: pbr!=2.1.0,>=2.0.0 in c:\\users\\hisan\\anaconda3\\lib\\site-packages (from stevedore>=3.0.0->qiskit-terra==0.22.0->qiskit) (5.10.0)\n",
      "Requirement already satisfied: mpmath>=0.19 in c:\\users\\hisan\\anaconda3\\lib\\site-packages (from sympy>=1.3->qiskit-terra==0.22.0->qiskit) (1.2.1)\n",
      "Note: you may need to restart the kernel to use updated packages.\n"
     ]
    }
   ],
   "source": [
    "pip install qiskit"
   ]
  },
  {
   "cell_type": "code",
   "execution_count": 2,
   "metadata": {},
   "outputs": [],
   "source": [
    "from qiskit import QuantumCircuit, QuantumRegister, Aer\n",
    "from qiskit.visualization import plot_bloch_multivector"
   ]
  },
  {
   "cell_type": "markdown",
   "metadata": {},
   "source": [
    "#### 2. 量子ビットを操作する"
   ]
  },
  {
   "cell_type": "code",
   "execution_count": 24,
   "metadata": {},
   "outputs": [],
   "source": [
    "# 量子回路を作るためのボード的なものを作成\n",
    "qc = QuantumCircuit()"
   ]
  },
  {
   "cell_type": "code",
   "execution_count": 25,
   "metadata": {},
   "outputs": [],
   "source": [
    "# 量子ビットを作成する（初期状態はゼロ（上向き））\n",
    "qr = QuantumRegister(1)  # 量子ビットを１つ（何個使えるかはものによる、フリーのものなら5つぐらい）"
   ]
  },
  {
   "cell_type": "code",
   "execution_count": 26,
   "metadata": {},
   "outputs": [],
   "source": [
    "# 量子ビットを量子回路にセットする\n",
    "qc.add_register(qr)"
   ]
  },
  {
   "cell_type": "code",
   "execution_count": 27,
   "metadata": {},
   "outputs": [
    {
     "data": {
      "text/plain": [
       "<qiskit.circuit.instructionset.InstructionSet at 0x1d62ad6d820>"
      ]
     },
     "execution_count": 27,
     "metadata": {},
     "output_type": "execute_result"
    }
   ],
   "source": [
    "# 量子ビットを反転させる\n",
    "qc.x(qr[0])"
   ]
  },
  {
   "cell_type": "code",
   "execution_count": 28,
   "metadata": {},
   "outputs": [
    {
     "data": {
      "text/html": [
       "<pre style=\"word-wrap: normal;white-space: pre;background: #fff0;line-height: 1.1;font-family: &quot;Courier New&quot;,Courier,monospace\">    ┌───┐\n",
       "q1: ┤ X ├\n",
       "    └───┘</pre>"
      ],
      "text/plain": [
       "    ┌───┐\n",
       "q1: ┤ X ├\n",
       "    └───┘"
      ]
     },
     "execution_count": 28,
     "metadata": {},
     "output_type": "execute_result"
    }
   ],
   "source": [
    "# 量子回路の様子を確認\n",
    "qc.draw()"
   ]
  },
  {
   "cell_type": "code",
   "execution_count": 29,
   "metadata": {},
   "outputs": [],
   "source": [
    "# シミュレーターを定義\n",
    "sim = Aer.get_backend('statevector_simulator')\n",
    "\n",
    "# シミュレーションを行う\n",
    "res = sim.run(qc).result()\n",
    "\n",
    "# シミュレーションの状態を確認する\n",
    "state = res.data()['statevector']"
   ]
  },
  {
   "cell_type": "code",
   "execution_count": 30,
   "metadata": {},
   "outputs": [
    {
     "name": "stdout",
     "output_type": "stream",
     "text": [
      "Statevector([0.+0.j, 1.+0.j],\n",
      "            dims=(2,))\n"
     ]
    }
   ],
   "source": [
    "print(state)"
   ]
  },
  {
   "cell_type": "markdown",
   "metadata": {},
   "source": [
    "- 'state'の結果の第１成分は「０っぽさ」を、第２成分は「１っぽさ」を表す。より正確には、確率振幅という概念。"
   ]
  },
  {
   "cell_type": "code",
   "execution_count": 31,
   "metadata": {},
   "outputs": [
    {
     "data": {
      "text/latex": [
       "$$\n",
       "state = \n",
       "\\begin{bmatrix}\n",
       "0 & 1  \\\\\n",
       " \\end{bmatrix}\n",
       "$$"
      ],
      "text/plain": [
       "<IPython.core.display.Latex object>"
      ]
     },
     "execution_count": 31,
     "metadata": {},
     "output_type": "execute_result"
    }
   ],
   "source": [
    "from qiskit.visualization import array_to_latex\n",
    "array_to_latex(state, prefix='state = ')"
   ]
  },
  {
   "cell_type": "code",
   "execution_count": 32,
   "metadata": {},
   "outputs": [
    {
     "data": {
      "image/png": "[encoded data removed]",
      "text/plain": [
       "<Figure size 288x288 with 1 Axes>"
      ]
     },
     "execution_count": 32,
     "metadata": {},
     "output_type": "execute_result"
    }
   ],
   "source": [
    "plot_bloch_multivector(state)"
   ]
  },
  {
   "cell_type": "markdown",
   "metadata": {},
   "source": [
    "- 0と1の確率を50:50にする"
   ]
  },
  {
   "cell_type": "code",
   "execution_count": 33,
   "metadata": {},
   "outputs": [
    {
     "data": {
      "text/html": [
       "<pre style=\"word-wrap: normal;white-space: pre;background: #fff0;line-height: 1.1;font-family: &quot;Courier New&quot;,Courier,monospace\">    ┌───┐\n",
       "q2: ┤ H ├\n",
       "    └───┘</pre>"
      ],
      "text/plain": [
       "    ┌───┐\n",
       "q2: ┤ H ├\n",
       "    └───┘"
      ]
     },
     "execution_count": 33,
     "metadata": {},
     "output_type": "execute_result"
    }
   ],
   "source": [
    "qc = QuantumCircuit()\n",
    "qr = QuantumRegister(1)\n",
    "qc.add_register(qr)\n",
    "qc.h(qr[0])  # ここをhにする（アダマール回路？）\n",
    "qc.draw()"
   ]
  },
  {
   "cell_type": "code",
   "execution_count": 35,
   "metadata": {},
   "outputs": [
    {
     "name": "stdout",
     "output_type": "stream",
     "text": [
      "Statevector([0.70710678+0.j, 0.70710678+0.j],\n",
      "            dims=(2,))\n"
     ]
    }
   ],
   "source": [
    "sim = Aer.get_backend('statevector_simulator')\n",
    "res = sim.run(qc).result()\n",
    "state = res.data()['statevector']\n",
    "print(state)"
   ]
  },
  {
   "cell_type": "code",
   "execution_count": 36,
   "metadata": {},
   "outputs": [
    {
     "data": {
      "text/latex": [
       "$$\n",
       "state = \n",
       "\\begin{bmatrix}\n",
       "\\tfrac{1}{\\sqrt{2}} & \\tfrac{1}{\\sqrt{2}}  \\\\\n",
       " \\end{bmatrix}\n",
       "$$"
      ],
      "text/plain": [
       "<IPython.core.display.Latex object>"
      ]
     },
     "execution_count": 36,
     "metadata": {},
     "output_type": "execute_result"
    }
   ],
   "source": [
    "array_to_latex(state, prefix='state = ')"
   ]
  },
  {
   "cell_type": "code",
   "execution_count": 37,
   "metadata": {},
   "outputs": [
    {
     "data": {
      "image/png": "[encoded data removed]",
      "text/plain": [
       "<Figure size 288x288 with 1 Axes>"
      ]
     },
     "execution_count": 37,
     "metadata": {},
     "output_type": "execute_result"
    }
   ],
   "source": [
    "plot_bloch_multivector(state)"
   ]
  },
  {
   "cell_type": "markdown",
   "metadata": {},
   "source": [
    "- 重ね合わせの状態を確認"
   ]
  },
  {
   "cell_type": "code",
   "execution_count": 38,
   "metadata": {},
   "outputs": [],
   "source": [
    "from qiskit import ClassicalRegister"
   ]
  },
  {
   "cell_type": "code",
   "execution_count": 45,
   "metadata": {},
   "outputs": [
    {
     "data": {
      "text/plain": [
       "<qiskit.circuit.instructionset.InstructionSet at 0x1d62cd057c0>"
      ]
     },
     "execution_count": 45,
     "metadata": {},
     "output_type": "execute_result"
    }
   ],
   "source": [
    "qc = QuantumCircuit()\n",
    "qr = QuantumRegister(1)\n",
    "qc.add_register(qr)\n",
    "qc.h(qr[0])"
   ]
  },
  {
   "cell_type": "code",
   "execution_count": 46,
   "metadata": {},
   "outputs": [
    {
     "data": {
      "text/html": [
       "<pre style=\"word-wrap: normal;white-space: pre;background: #fff0;line-height: 1.1;font-family: &quot;Courier New&quot;,Courier,monospace\">    ┌───┐┌─┐\n",
       "q4: ┤ H ├┤M├\n",
       "    └───┘└╥┘\n",
       "c3: ══════╩═\n",
       "            </pre>"
      ],
      "text/plain": [
       "    ┌───┐┌─┐\n",
       "q4: ┤ H ├┤M├\n",
       "    └───┘└╥┘\n",
       "c3: ══════╩═\n",
       "            "
      ]
     },
     "execution_count": 46,
     "metadata": {},
     "output_type": "execute_result"
    }
   ],
   "source": [
    "# 古典回路を追加\n",
    "cr = ClassicalRegister(1)\n",
    "qc.add_register(cr)\n",
    "\n",
    "# 測定結果を観測（measure）する\n",
    "qc.measure(qr[0], cr[0])\n",
    "qc.draw()"
   ]
  },
  {
   "cell_type": "code",
   "execution_count": 47,
   "metadata": {},
   "outputs": [
    {
     "data": {
      "text/plain": [
       "{'0': 480, '1': 520}"
      ]
     },
     "execution_count": 47,
     "metadata": {},
     "output_type": "execute_result"
    }
   ],
   "source": [
    "sim = Aer.get_backend('qasm_simulator')\n",
    "res = sim.run(qc, shots = 1000).result()\n",
    "res.get_counts()"
   ]
  },
  {
   "cell_type": "markdown",
   "metadata": {},
   "source": [
    "- 量子ビットを２つにする"
   ]
  },
  {
   "cell_type": "code",
   "execution_count": 51,
   "metadata": {},
   "outputs": [
    {
     "data": {
      "text/html": [
       "<pre style=\"word-wrap: normal;white-space: pre;background: #fff0;line-height: 1.1;font-family: &quot;Courier New&quot;,Courier,monospace\">           \n",
       "q8_0: ──■──\n",
       "      ┌─┴─┐\n",
       "q8_1: ┤ X ├\n",
       "      └───┘</pre>"
      ],
      "text/plain": [
       "           \n",
       "q8_0: ──■──\n",
       "      ┌─┴─┐\n",
       "q8_1: ┤ X ├\n",
       "      └───┘"
      ]
     },
     "execution_count": 51,
     "metadata": {},
     "output_type": "execute_result"
    }
   ],
   "source": [
    "qc = QuantumCircuit()\n",
    "qr = QuantumRegister(2)\n",
    "qc.add_register(qr)\n",
    "\n",
    "# control x（制御x）を導入\n",
    "qc.cx(qr[0], qr[1])\n",
    "qc.draw()"
   ]
  },
  {
   "cell_type": "code",
   "execution_count": 54,
   "metadata": {},
   "outputs": [
    {
     "data": {
      "text/latex": [
       "$$\n",
       "state = \n",
       "\\begin{bmatrix}\n",
       "1 & 0 & 0 & 0  \\\\\n",
       " \\end{bmatrix}\n",
       "$$"
      ],
      "text/plain": [
       "<IPython.core.display.Latex object>"
      ]
     },
     "execution_count": 54,
     "metadata": {},
     "output_type": "execute_result"
    }
   ],
   "source": [
    "sim = Aer.get_backend('statevector_simulator')\n",
    "res = sim.run(qc).result()\n",
    "state = res.data()['statevector']\n",
    "array_to_latex(state, prefix='state = ')"
   ]
  },
  {
   "cell_type": "markdown",
   "metadata": {},
   "source": [
    "- 1つめの量子ビットを反転させる"
   ]
  },
  {
   "cell_type": "code",
   "execution_count": 55,
   "metadata": {},
   "outputs": [
    {
     "data": {
      "text/html": [
       "<pre style=\"word-wrap: normal;white-space: pre;background: #fff0;line-height: 1.1;font-family: &quot;Courier New&quot;,Courier,monospace\">      ┌───┐     \n",
       "q9_0: ┤ X ├──■──\n",
       "      └───┘┌─┴─┐\n",
       "q9_1: ─────┤ X ├\n",
       "           └───┘</pre>"
      ],
      "text/plain": [
       "      ┌───┐     \n",
       "q9_0: ┤ X ├──■──\n",
       "      └───┘┌─┴─┐\n",
       "q9_1: ─────┤ X ├\n",
       "           └───┘"
      ]
     },
     "execution_count": 55,
     "metadata": {},
     "output_type": "execute_result"
    }
   ],
   "source": [
    "qc = QuantumCircuit()\n",
    "qr = QuantumRegister(2)\n",
    "qc.add_register(qr)\n",
    "\n",
    "# 1つめの量子ビットを反転\n",
    "qc.x(qr[0])\n",
    "\n",
    "# control x（制御x）を導入\n",
    "qc.cx(qr[0], qr[1])\n",
    "qc.draw()"
   ]
  },
  {
   "cell_type": "code",
   "execution_count": 56,
   "metadata": {},
   "outputs": [
    {
     "data": {
      "text/latex": [
       "$$\n",
       "state = \n",
       "\\begin{bmatrix}\n",
       "0 & 0 & 0 & 1  \\\\\n",
       " \\end{bmatrix}\n",
       "$$"
      ],
      "text/plain": [
       "<IPython.core.display.Latex object>"
      ]
     },
     "execution_count": 56,
     "metadata": {},
     "output_type": "execute_result"
    }
   ],
   "source": [
    "sim = Aer.get_backend('statevector_simulator')\n",
    "res = sim.run(qc).result()\n",
    "state = res.data()['statevector']\n",
    "array_to_latex(state, prefix='state = ')"
   ]
  },
  {
   "cell_type": "markdown",
   "metadata": {},
   "source": [
    "- 重ね合わせをアダマール回路で表現"
   ]
  },
  {
   "cell_type": "code",
   "execution_count": 77,
   "metadata": {},
   "outputs": [
    {
     "data": {
      "text/html": [
       "<pre style=\"word-wrap: normal;white-space: pre;background: #fff0;line-height: 1.1;font-family: &quot;Courier New&quot;,Courier,monospace\">       ┌───┐     \n",
       "q14_0: ┤ H ├──■──\n",
       "       └───┘┌─┴─┐\n",
       "q14_1: ─────┤ X ├\n",
       "            └───┘</pre>"
      ],
      "text/plain": [
       "       ┌───┐     \n",
       "q14_0: ┤ H ├──■──\n",
       "       └───┘┌─┴─┐\n",
       "q14_1: ─────┤ X ├\n",
       "            └───┘"
      ]
     },
     "execution_count": 77,
     "metadata": {},
     "output_type": "execute_result"
    }
   ],
   "source": [
    "qc = QuantumCircuit()\n",
    "qr = QuantumRegister(2)\n",
    "qc.add_register(qr)\n",
    "\n",
    "# 重ね合わせを表現するためにアダマール回路を追加\n",
    "qc.h(qr[0])\n",
    "qc.cx(qr[0], qr[1])\n",
    "qc.draw()"
   ]
  },
  {
   "cell_type": "code",
   "execution_count": 78,
   "metadata": {},
   "outputs": [
    {
     "data": {
      "text/latex": [
       "$$\n",
       "state = \n",
       "\\begin{bmatrix}\n",
       "\\tfrac{1}{\\sqrt{2}} & 0 & 0 & \\tfrac{1}{\\sqrt{2}}  \\\\\n",
       " \\end{bmatrix}\n",
       "$$"
      ],
      "text/plain": [
       "<IPython.core.display.Latex object>"
      ]
     },
     "execution_count": 78,
     "metadata": {},
     "output_type": "execute_result"
    }
   ],
   "source": [
    "sim = Aer.get_backend('statevector_simulator')\n",
    "res = sim.run(qc).result()\n",
    "state = res.data()['statevector']\n",
    "array_to_latex(state, prefix='state = ')"
   ]
  },
  {
   "cell_type": "code",
   "execution_count": 79,
   "metadata": {},
   "outputs": [
    {
     "data": {
      "text/plain": [
       "<qiskit.circuit.instructionset.InstructionSet at 0x1d62e1419a0>"
      ]
     },
     "execution_count": 79,
     "metadata": {},
     "output_type": "execute_result"
    }
   ],
   "source": [
    "# 観測結果を測定する回路を追加\n",
    "cr = ClassicalRegister(2)\n",
    "qc.add_register(cr)\n",
    "qc.measure(qr[0], cr[0])\n",
    "qc.measure(qr[1], cr[1])"
   ]
  },
  {
   "cell_type": "code",
   "execution_count": 80,
   "metadata": {},
   "outputs": [
    {
     "data": {
      "text/html": [
       "<pre style=\"word-wrap: normal;white-space: pre;background: #fff0;line-height: 1.1;font-family: &quot;Courier New&quot;,Courier,monospace\">       ┌───┐     ┌─┐   \n",
       "q14_0: ┤ H ├──■──┤M├───\n",
       "       └───┘┌─┴─┐└╥┘┌─┐\n",
       "q14_1: ─────┤ X ├─╫─┤M├\n",
       "            └───┘ ║ └╥┘\n",
       "c11_0: ═══════════╩══╬═\n",
       "                     ║ \n",
       "c11_1: ══════════════╩═\n",
       "                       </pre>"
      ],
      "text/plain": [
       "       ┌───┐     ┌─┐   \n",
       "q14_0: ┤ H ├──■──┤M├───\n",
       "       └───┘┌─┴─┐└╥┘┌─┐\n",
       "q14_1: ─────┤ X ├─╫─┤M├\n",
       "            └───┘ ║ └╥┘\n",
       "c11_0: ═══════════╩══╬═\n",
       "                     ║ \n",
       "c11_1: ══════════════╩═\n",
       "                       "
      ]
     },
     "execution_count": 80,
     "metadata": {},
     "output_type": "execute_result"
    }
   ],
   "source": [
    "qc.draw()"
   ]
  },
  {
   "cell_type": "code",
   "execution_count": 81,
   "metadata": {},
   "outputs": [
    {
     "data": {
      "text/plain": [
       "{'11': 498, '00': 502}"
      ]
     },
     "execution_count": 81,
     "metadata": {},
     "output_type": "execute_result"
    }
   ],
   "source": [
    "sim = Aer.get_backend('qasm_simulator')\n",
    "res = sim.run(qc, shots=1000).result()\n",
    "res.get_counts()"
   ]
  },
  {
   "cell_type": "code",
   "execution_count": null,
   "metadata": {},
   "outputs": [],
   "source": []
  }
 ],
 "metadata": {
  "kernelspec": {
   "display_name": "Python 3.9.12 ('base')",
   "language": "python",
   "name": "python3"
  },
  "language_info": {
   "codemirror_mode": {
    "name": "ipython",
    "version": 3
   },
   "file_extension": ".py",
   "mimetype": "text/x-python",
   "name": "python",
   "nbconvert_exporter": "python",
   "pygments_lexer": "ipython3",
   "version": "3.9.12"
  },
  "orig_nbformat": 4,
  "vscode": {
   "interpreter": {
    "hash": "153e4705b1c652da88ea7ffc880aa7ae6c4b1c14ad6096906ddc957e589b7347"
   }
  }
 },
 "nbformat": 4,
 "nbformat_minor": 2
}
